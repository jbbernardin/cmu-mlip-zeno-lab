{
 "cells": [
  {
   "cell_type": "markdown",
   "metadata": {
    "id": "XHtaPysVSNZN"
   },
   "source": [
    "# Step 1 - Install the required dependencies and make sure the python version is 3.10 and above"
   ]
  },
  {
   "cell_type": "code",
   "execution_count": 1,
   "metadata": {
    "id": "APS6D3eiSAR_"
   },
   "outputs": [
    {
     "name": "stdout",
     "output_type": "stream",
     "text": [
      "Collecting zeno-client\n",
      "  Downloading zeno_client-0.1.16-py3-none-any.whl.metadata (2.1 kB)\n",
      "Collecting arrow-json<0.10.0,>=0.9.0 (from zeno-client)\n",
      "  Downloading arrow_json-0.9.0-cp37-abi3-win_amd64.whl.metadata (1.6 kB)\n",
      "Collecting outdated>=0.2.0 (from zeno-client)\n",
      "  Downloading outdated-0.2.2-py2.py3-none-any.whl (7.5 kB)\n",
      "Requirement already satisfied: pandas>=1.4.3 in c:\\users\\jbber\\appdata\\local\\programs\\python\\python311\\lib\\site-packages (from zeno-client) (1.5.3)\n",
      "Collecting pyarrow>=6.0.0 (from zeno-client)\n",
      "  Downloading pyarrow-15.0.0-cp311-cp311-win_amd64.whl.metadata (3.1 kB)\n",
      "Collecting pydantic>=1.0 (from zeno-client)\n",
      "  Downloading pydantic-2.6.1-py3-none-any.whl.metadata (83 kB)\n",
      "     ---------------------------------------- 83.5/83.5 kB 2.4 MB/s eta 0:00:00\n",
      "Requirement already satisfied: requests>=2.20.0 in c:\\users\\jbber\\appdata\\local\\programs\\python\\python311\\lib\\site-packages (from zeno-client) (2.28.2)\n",
      "Requirement already satisfied: tqdm>=4.1.0 in c:\\users\\jbber\\appdata\\local\\programs\\python\\python311\\lib\\site-packages (from zeno-client) (4.64.1)\n",
      "Requirement already satisfied: setuptools>=44 in c:\\users\\jbber\\appdata\\local\\programs\\python\\python311\\lib\\site-packages (from outdated>=0.2.0->zeno-client) (65.5.0)\n",
      "Collecting littleutils (from outdated>=0.2.0->zeno-client)\n",
      "  Downloading littleutils-0.2.2.tar.gz (6.6 kB)\n",
      "  Installing build dependencies: started\n",
      "  Installing build dependencies: finished with status 'done'\n",
      "  Getting requirements to build wheel: started\n",
      "  Getting requirements to build wheel: finished with status 'done'\n",
      "  Preparing metadata (pyproject.toml): started\n",
      "  Preparing metadata (pyproject.toml): finished with status 'done'\n",
      "Requirement already satisfied: python-dateutil>=2.8.1 in c:\\users\\jbber\\appdata\\roaming\\python\\python311\\site-packages (from pandas>=1.4.3->zeno-client) (2.8.2)\n",
      "Requirement already satisfied: pytz>=2020.1 in c:\\users\\jbber\\appdata\\local\\programs\\python\\python311\\lib\\site-packages (from pandas>=1.4.3->zeno-client) (2022.7.1)\n",
      "Requirement already satisfied: numpy>=1.21.0 in c:\\users\\jbber\\appdata\\local\\programs\\python\\python311\\lib\\site-packages (from pandas>=1.4.3->zeno-client) (1.24.2)\n",
      "Collecting annotated-types>=0.4.0 (from pydantic>=1.0->zeno-client)\n",
      "  Downloading annotated_types-0.6.0-py3-none-any.whl.metadata (12 kB)\n",
      "Collecting pydantic-core==2.16.2 (from pydantic>=1.0->zeno-client)\n",
      "  Downloading pydantic_core-2.16.2-cp311-none-win_amd64.whl.metadata (6.6 kB)\n",
      "Requirement already satisfied: typing-extensions>=4.6.1 in c:\\users\\jbber\\appdata\\local\\programs\\python\\python311\\lib\\site-packages (from pydantic>=1.0->zeno-client) (4.9.0)\n",
      "Requirement already satisfied: charset-normalizer<4,>=2 in c:\\users\\jbber\\appdata\\local\\programs\\python\\python311\\lib\\site-packages (from requests>=2.20.0->zeno-client) (3.0.1)\n",
      "Requirement already satisfied: idna<4,>=2.5 in c:\\users\\jbber\\appdata\\local\\programs\\python\\python311\\lib\\site-packages (from requests>=2.20.0->zeno-client) (3.4)\n",
      "Requirement already satisfied: urllib3<1.27,>=1.21.1 in c:\\users\\jbber\\appdata\\local\\programs\\python\\python311\\lib\\site-packages (from requests>=2.20.0->zeno-client) (1.26.14)\n",
      "Requirement already satisfied: certifi>=2017.4.17 in c:\\users\\jbber\\appdata\\local\\programs\\python\\python311\\lib\\site-packages (from requests>=2.20.0->zeno-client) (2022.12.7)\n",
      "Requirement already satisfied: colorama in c:\\users\\jbber\\appdata\\local\\programs\\python\\python311\\lib\\site-packages (from tqdm>=4.1.0->zeno-client) (0.4.6)\n",
      "Requirement already satisfied: six>=1.5 in c:\\users\\jbber\\appdata\\roaming\\python\\python311\\site-packages (from python-dateutil>=2.8.1->pandas>=1.4.3->zeno-client) (1.16.0)\n",
      "Downloading zeno_client-0.1.16-py3-none-any.whl (7.3 kB)\n",
      "Downloading arrow_json-0.9.0-cp37-abi3-win_amd64.whl (1.3 MB)\n",
      "   ---------------------------------------- 1.3/1.3 MB 9.3 MB/s eta 0:00:00\n",
      "Downloading pyarrow-15.0.0-cp311-cp311-win_amd64.whl (24.8 MB)\n",
      "   ---------------------------------------- 24.8/24.8 MB 23.4 MB/s eta 0:00:00\n",
      "Downloading pydantic-2.6.1-py3-none-any.whl (394 kB)\n",
      "   --------------------------------------- 394.8/394.8 kB 12.4 MB/s eta 0:00:00\n",
      "Downloading pydantic_core-2.16.2-cp311-none-win_amd64.whl (1.9 MB)\n",
      "   ---------------------------------------- 1.9/1.9 MB 24.2 MB/s eta 0:00:00\n",
      "Downloading annotated_types-0.6.0-py3-none-any.whl (12 kB)\n",
      "Building wheels for collected packages: littleutils\n",
      "  Building wheel for littleutils (pyproject.toml): started\n",
      "  Building wheel for littleutils (pyproject.toml): finished with status 'done'\n",
      "  Created wheel for littleutils: filename=littleutils-0.2.2-py3-none-any.whl size=7034 sha256=2bfeaca499d09f6e3c8a3129e0001e4c2d6ec84f15c0e32b66e03f4de8884cd0\n",
      "  Stored in directory: c:\\users\\jbber\\appdata\\local\\pip\\cache\\wheels\\17\\8d\\65\\9a39917567093c895549811c172be5d2dfb63c7e4b143e05a4\n",
      "Successfully built littleutils\n",
      "Installing collected packages: littleutils, pydantic-core, pyarrow, annotated-types, pydantic, outdated, arrow-json, zeno-client\n",
      "Successfully installed annotated-types-0.6.0 arrow-json-0.9.0 littleutils-0.2.2 outdated-0.2.2 pyarrow-15.0.0 pydantic-2.6.1 pydantic-core-2.16.2 zeno-client-0.1.16\n"
     ]
    },
    {
     "name": "stderr",
     "output_type": "stream",
     "text": [
      "\n",
      "[notice] A new release of pip is available: 23.3.2 -> 24.0\n",
      "[notice] To update, run: python.exe -m pip install --upgrade pip\n"
     ]
    },
    {
     "name": "stdout",
     "output_type": "stream",
     "text": [
      "Requirement already satisfied: pip in c:\\users\\jbber\\appdata\\local\\programs\\python\\python311\\lib\\site-packages (23.3.2)\n",
      "Collecting pip\n",
      "  Downloading pip-24.0-py3-none-any.whl.metadata (3.6 kB)\n",
      "Downloading pip-24.0-py3-none-any.whl (2.1 MB)\n",
      "   ---------------------------------------- 2.1/2.1 MB 14.9 MB/s eta 0:00:00\n"
     ]
    },
    {
     "name": "stderr",
     "output_type": "stream",
     "text": [
      "ERROR: To modify pip, please run the following command:\n",
      "C:\\Users\\jbber\\AppData\\Local\\Programs\\Python\\Python311\\python.exe -m pip install --upgrade pip\n",
      "\n",
      "[notice] A new release of pip is available: 23.3.2 -> 24.0\n",
      "[notice] To update, run: python.exe -m pip install --upgrade pip\n"
     ]
    },
    {
     "name": "stdout",
     "output_type": "stream",
     "text": [
      "Collecting bottleneck\n",
      "  Downloading Bottleneck-1.3.7-cp311-cp311-win_amd64.whl (109 kB)\n",
      "     -------------------------------------- 109.9/109.9 kB 2.1 MB/s eta 0:00:00\n",
      "Requirement already satisfied: numpy in c:\\users\\jbber\\appdata\\local\\programs\\python\\python311\\lib\\site-packages (from bottleneck) (1.24.2)\n",
      "Installing collected packages: bottleneck\n",
      "Successfully installed bottleneck-1.3.7\n"
     ]
    },
    {
     "name": "stderr",
     "output_type": "stream",
     "text": [
      "\n",
      "[notice] A new release of pip is available: 23.3.2 -> 24.0\n",
      "[notice] To update, run: python.exe -m pip install --upgrade pip\n"
     ]
    },
    {
     "name": "stdout",
     "output_type": "stream",
     "text": [
      "Collecting langdetect\n",
      "  Downloading langdetect-1.0.9.tar.gz (981 kB)\n",
      "     -------------------------------------- 981.5/981.5 kB 7.8 MB/s eta 0:00:00\n",
      "  Installing build dependencies: started\n",
      "  Installing build dependencies: finished with status 'done'\n",
      "  Getting requirements to build wheel: started\n",
      "  Getting requirements to build wheel: finished with status 'done'\n",
      "  Preparing metadata (pyproject.toml): started\n",
      "  Preparing metadata (pyproject.toml): finished with status 'done'\n",
      "Requirement already satisfied: six in c:\\users\\jbber\\appdata\\roaming\\python\\python311\\site-packages (from langdetect) (1.16.0)\n",
      "Building wheels for collected packages: langdetect\n",
      "  Building wheel for langdetect (pyproject.toml): started\n",
      "  Building wheel for langdetect (pyproject.toml): finished with status 'done'\n",
      "  Created wheel for langdetect: filename=langdetect-1.0.9-py3-none-any.whl size=993254 sha256=7e0ebd29e92d1534c14bb1be8144c38ab73abf7d301983e50fd69c48e8cbea26\n",
      "  Stored in directory: c:\\users\\jbber\\appdata\\local\\pip\\cache\\wheels\\0a\\f2\\b2\\e5ca405801e05eb7c8ed5b3b4bcf1fcabcd6272c167640072e\n",
      "Successfully built langdetect\n",
      "Installing collected packages: langdetect\n",
      "Successfully installed langdetect-1.0.9\n"
     ]
    },
    {
     "name": "stderr",
     "output_type": "stream",
     "text": [
      "\n",
      "[notice] A new release of pip is available: 23.3.2 -> 24.0\n",
      "[notice] To update, run: python.exe -m pip install --upgrade pip\n"
     ]
    }
   ],
   "source": [
    "!pip install zeno-client\n",
    "!pip install --upgrade pip\n",
    "!pip install --upgrade bottleneck\n",
    "!pip install langdetect\n"
   ]
  },
  {
   "cell_type": "code",
   "execution_count": 2,
   "metadata": {
    "colab": {
     "base_uri": "https://localhost:8080/"
    },
    "id": "CRrMiMnLV9xY",
    "outputId": "5193e819-f2cb-4032-99df-ced1ea7b4191"
   },
   "outputs": [
    {
     "name": "stdout",
     "output_type": "stream",
     "text": [
      "Python 3.11.0\n"
     ]
    }
   ],
   "source": [
    "!python --version"
   ]
  },
  {
   "cell_type": "code",
   "execution_count": null,
   "metadata": {
    "id": "wHMa3ItBSSdu"
   },
   "outputs": [],
   "source": [
    "from zeno_client import ZenoClient, ZenoMetric\n",
    "import pandas as pd\n",
    "\n",
    "# Initialize a client with our API key.\n",
    "client = ZenoClient(\"<INSERT YOUR API KEY>\")\n"
   ]
  },
  {
   "cell_type": "markdown",
   "metadata": {
    "id": "bwOPnZ1vSfWt"
   },
   "source": [
    "# Step 2 - Create a project"
   ]
  },
  {
   "cell_type": "code",
   "execution_count": null,
   "metadata": {
    "id": "9UdBAYUsSXBH"
   },
   "outputs": [],
   "source": [
    "project = client.create_project(\n",
    "    name=\"Biased Movies Analysis\",\n",
    "    view=\"text-classification\",\n",
    "    metrics=[\n",
    "        ZenoMetric(name=\"accuracy\", type=\"mean\", columns=[\"correct\"]),\n",
    "        #Uncomment the following line after implementing the function\n",
    "        ZenoMetric(name=\"avg length ratio\", type=\"mean\", columns=[\"avg_length_ratio\"]),\n",
    "    ]\n",
    ")"
   ]
  },
  {
   "cell_type": "markdown",
   "metadata": {
    "id": "c-lh1yUhXjsd"
   },
   "source": [
    "# Step 3 - Create dataset"
   ]
  },
  {
   "cell_type": "code",
   "execution_count": null,
   "metadata": {
    "id": "s4x_f9QqSjHT"
   },
   "outputs": [],
   "source": [
    "import pandas as pd\n",
    "from langdetect import detect\n",
    "from collections import Counter\n",
    "import random\n",
    "\n",
    "# Sample language detection function\n",
    "def detect_language(text):\n",
    "    try:\n",
    "        return detect(text)\n",
    "    except:\n",
    "        return \"Unknown\"\n",
    "\n",
    "# Create a Pandas DataFrame for the biased dataset of movies\n",
    "df = pd.DataFrame(\n",
    "    {\n",
    "        \"id\": range(1, 11),  # Using only 10 instances for demonstration\n",
    "        \"text\": [\n",
    "            \"I love this movie!\",\n",
    "            \"¡Odio esta película!\",\n",
    "            \"Ce film est ok.\",\n",
    "            \"The acting was great!\",\n",
    "            \"The plot was confusing.\",\n",
    "            \"I really enjoyed it!\",\n",
    "            \"Worst movie ever!\",\n",
    "            \"Not bad, but could be better.\",\n",
    "            \"A masterpiece!\",\n",
    "            \"I didn't like it.\",\n",
    "        ],\n",
    "        \"genre\": [\"action\", \"drama\", \"comedy\", \"action\", \"drama\", \"action\", \"drama\", \"comedy\", \"action\", \"drama\"],\n",
    "        \"year\": [random.choice([2020, 2021, 2022]) for _ in range(10)],  # Randomly select year\n",
    "        \"label\": [\"positive\", \"negative\", \"neutral\", \"positive\", \"negative\", \"positive\", \"negative\", \"neutral\", \"positive\", \"negative\"],\n",
    "    }\n",
    ")\n",
    "\n",
    "# Introduce biases in genre\n",
    "biased_genre = [\"action\", \"action\", \"drama\", \"drama\", \"comedy\", \"comedy\", \"comedy\", \"comedy\", \"drama\", \"drama\"]\n",
    "df[\"biased_genre\"] = biased_genre\n",
    "\n",
    "# Introduce biases in year\n",
    "biased_year = [2020, 2020, 2020, 2021, 2021, 2021, 2022, 2022, 2022, 2022]\n",
    "df[\"biased_year\"] = biased_year\n",
    "\n",
    "# Add language detection to create a new column\n",
    "df[\"detected_language\"] = df[\"text\"].apply(detect_language)\n",
    "\n",
    "# Add additional columns for analysis\n",
    "df[\"input_length\"] = df[\"text\"].str.len()\n",
    "\n",
    "#Uncomment the following line\n",
    "df[\"avg_length_ratio\"] = df[\"input_length\"]/df[\"input_length\"].mean()\n",
    "\n"
   ]
  },
  {
   "cell_type": "markdown",
   "metadata": {
    "id": "9MRmyxrQX0-v"
   },
   "source": [
    "# Step 4 - Upload the Base Dataset\n"
   ]
  },
  {
   "cell_type": "code",
   "execution_count": null,
   "metadata": {
    "id": "gX5H6b9mXxyW"
   },
   "outputs": [],
   "source": [
    "\n",
    "project.upload_dataset(df, id_column=\"id\", data_column=\"text\", label_column=\"label\")\n",
    "\n"
   ]
  },
  {
   "cell_type": "markdown",
   "metadata": {
    "id": "22toUe1iX_Se"
   },
   "source": [
    "# Step 5 - Upload the AI System Outputs\n"
   ]
  },
  {
   "cell_type": "code",
   "execution_count": null,
   "metadata": {
    "id": "Rj6kOAkAXzBN"
   },
   "outputs": [],
   "source": [
    "# For demonstration, let's assume we have system predictions\n",
    "df_system = pd.DataFrame(\n",
    "    {\n",
    "        \"output\": [\"positive\", \"negative\", \"negative\", \"positive\", \"negative\", \"positive\", \"negative\", \"neutral\", \"positive\", \"negative\"],\n",
    "    }\n",
    ")\n",
    "\n",
    "# Create an id column to match the base dataset\n",
    "df_system[\"id\"] = df_system.index + 1\n",
    "\n",
    "# Measure accuracy for each instance, which is averaged by the ZenoMetric above\n",
    "df_system[\"correct\"] = (df_system[\"output\"] == df[\"label\"]).astype(int)\n",
    "\n"
   ]
  },
  {
   "cell_type": "markdown",
   "metadata": {
    "id": "wemoUlruYE2p"
   },
   "source": [
    "# Step 6 - Upload the system outputs\n"
   ]
  },
  {
   "cell_type": "code",
   "execution_count": null,
   "metadata": {
    "id": "VkYtYnuBYEAR"
   },
   "outputs": [],
   "source": [
    "project.upload_system(df_system, name=\"System A\", id_column=\"id\", output_column=\"output\")"
   ]
  }
 ],
 "metadata": {
  "colab": {
   "provenance": []
  },
  "kernelspec": {
   "display_name": "Python 3 (ipykernel)",
   "language": "python",
   "name": "python3"
  },
  "language_info": {
   "codemirror_mode": {
    "name": "ipython",
    "version": 3
   },
   "file_extension": ".py",
   "mimetype": "text/x-python",
   "name": "python",
   "nbconvert_exporter": "python",
   "pygments_lexer": "ipython3",
   "version": "3.11.0"
  }
 },
 "nbformat": 4,
 "nbformat_minor": 1
}
